{
 "cells": [
  {
   "cell_type": "code",
   "execution_count": null,
   "metadata": {},
   "outputs": [],
   "source": [
    "import requests\n",
    "import json"
   ]
  },
  {
   "cell_type": "code",
   "execution_count": null,
   "metadata": {},
   "outputs": [],
   "source": [
    "# PRIOR TO THIS U ARE SUPPOSED TO CREATE APP ON GITHUB \n",
    "# AFTER CREATING APP HAVE CLIENT ID AND CLIENT SECRET ID WITH U\n",
    "\n",
    "data = {'client_id' : '____MENTION YOUR CLIENT ID U GET AFTER VREATING APP ON GITHUB ______', \n",
    "        'login' : '______MENTION YOUR GIT ID HERE_____', 'state' : 'random_123',\n",
    "       'redirect_uri' : \"https://www.google.com/\", \"scope\" : 'repo'}\n",
    "response = requests.get(\"https://github.com/login/oauth/authorize\", params = data)\n",
    "print(response.status_code)\n",
    "print(response.url)"
   ]
  },
  {
   "cell_type": "code",
   "execution_count": null,
   "metadata": {},
   "outputs": [],
   "source": [
    "data ={'client_id' : '//____MENTION YOUR CLIENT ID U GET AFTER VREATING APP ON GITHUB ______//',\n",
    "       'client_secret': '//____MENTION YOUR  SECRET CLIENT ID U GET AFTER CREATING APP ON GITHUB ______//',\n",
    "       'code' : '//__TOKEN U GET AFTER IN THE REDIRECTED SITE FROM THE EXECUTION OF ABOVE CELL____//',\n",
    "       'redirect_uri' : \"https://www.google.com/\",'state' : 'random_123'}\n",
    "r = requests.post(\"https://github.com/login/oauth/access_token\", data = data)\n",
    "print(r.status_code)\n",
    "print(r.url)\n",
    "r.text"
   ]
  },
  {
   "cell_type": "code",
   "execution_count": null,
   "metadata": {},
   "outputs": [],
   "source": [
    "h = {'Authorization' : 'token //____TOKEN U GET AFTER ABOVE CELL EXECUTION___//'}\n",
    "res = requests.get(\"https://api.github.com/orgs/CodingNinjasCodes/repos\", headers = h)\n",
    "data = res.json()\n",
    "print(res.url)\n",
    "data"
   ]
  },
  {
   "cell_type": "code",
   "execution_count": null,
   "metadata": {},
   "outputs": [],
   "source": [
    "for i in data:\n",
    "    if(i['fork'] == False):\n",
    "        print(i['name'],i['watchers_count'],i['forks_count'])"
   ]
  },
  {
   "cell_type": "code",
   "execution_count": null,
   "metadata": {},
   "outputs": [],
   "source": [
    "resp = requests.post('https://api.github.com/user/repos',headers = h, data = json.dumps({'name' : 'DataScience API','description' : 'its just a demo repository created using api by python',\n",
    "                                                                   'private' : True,'auto_init': True}))\n",
    "resp.text"
   ]
  },
  {
   "cell_type": "code",
   "execution_count": null,
   "metadata": {},
   "outputs": [],
   "source": [
    "h = {'Authorization' : 'token //____TOKEN U GET AFTER ABOVE CELL EXECUTION___//'}\n",
    "res = requests.get(\"https://api.github.com/orgs/CodingNinjasCodes/members\", headers = h)\n",
    "data = res.json()\n",
    "# print(res.url)\n",
    "data\n",
    "for i in data:\n",
    "    print(i['login'])"
   ]
  },
  {
   "cell_type": "code",
   "execution_count": null,
   "metadata": {},
   "outputs": [],
   "source": [
    "h = {'Authorization' : 'token //____TOKEN U GET AFTER ABOVE CELL EXECUTION___//'}\n",
    "res = requests.get(\"https://api.github.com/orgs/CodingNinjasCodes/repos\", headers = h)\n",
    "data = res.json()\n",
    "# print(res.url)\n",
    "data\n",
    "for i in data:\n",
    "    repo_name = i['name']\n",
    "    res = requests.get(\"https://api.github.com/repos/CodingNinjasCodes/\"+repo_name+\"/commits\", headers = h)\n",
    "    print(res.url)"
   ]
  },
  {
   "cell_type": "code",
   "execution_count": null,
   "metadata": {},
   "outputs": [],
   "source": [
    "h = {'Authorization' : 'token //____TOKEN U GET AFTER ABOVE CELL EXECUTION___//'}\n",
    "res = requests.get(\"https://api.github.com/repos/CodingNinjasCodes/JSNotes/stats/contributors\", headers = h)\n",
    "data = res.json()\n",
    "print(res.url)\n",
    "# print(data)\n",
    "dic = {}\n",
    "for i in data:\n",
    "#     name = i['author']['login']\n",
    "#     dic[name] = dic.get(name,0) + 1\n",
    "    print(i['login'],i['contributions'])\n",
    "# dic\n",
    "# for key,value in dic.items():\n",
    "#     print(key,value)"
   ]
  },
  {
   "cell_type": "code",
   "execution_count": null,
   "metadata": {},
   "outputs": [],
   "source": [
    "h = {'Authorization' : 'token //____TOKEN U GET AFTER ABOVE CELL EXECUTION___//','Accept':'application/vnd.github.black-panther-preview+json'}\n",
    "res = requests.get(\"https://api.github.com/repos/CodingNinjasCodes/SmoothScrollJs/community/profile\", headers = h)\n",
    "data = res.json()\n",
    "data"
   ]
  },
  {
   "cell_type": "code",
   "execution_count": null,
   "metadata": {},
   "outputs": [],
   "source": [
    "h = {'Authorization' : 'token //____TOKEN U GET AFTER ABOVE CELL EXECUTION___//'}\n",
    "res = requests.get(\"https://api.github.com/orgs/fossasia/repos\", headers = h,params = {'type':'all'})\n",
    "data = res.json()\n",
    "# print(data.url)\n",
    "for i in data:\n",
    "    print(i['name'])"
   ]
  },
  {
   "cell_type": "code",
   "execution_count": null,
   "metadata": {},
   "outputs": [],
   "source": [
    "h = {'Authorization' : 'token //____TOKEN U GET AFTER ABOVE CELL EXECUTION___//'}\n",
    "res = requests.get(\"https://api.github.com/orgs/fossasia\", headers = h)\n",
    "data = res.json()\n",
    "for i in range(1,data['public_repos']//30 +2,1):\n",
    "    res = requests.get(\"https://api.github.com/orgs/fossasia/repos\", headers = h,\n",
    "                      params = {'type': 'all', 'page' : i})\n",
    "    for j in res.json():\n",
    "        print(j.get('name'))\n",
    "# for i in data:\n",
    "#     print(i['name'])"
   ]
  }
 ],
 "metadata": {
  "kernelspec": {
   "display_name": "Python 3",
   "language": "python",
   "name": "python3"
  },
  "language_info": {
   "codemirror_mode": {
    "name": "ipython",
    "version": 3
   },
   "file_extension": ".py",
   "mimetype": "text/x-python",
   "name": "python",
   "nbconvert_exporter": "python",
   "pygments_lexer": "ipython3",
   "version": "3.7.3"
  }
 },
 "nbformat": 4,
 "nbformat_minor": 2
}
